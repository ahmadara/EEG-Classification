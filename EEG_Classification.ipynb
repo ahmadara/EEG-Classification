{
  "cells": [
    {
      "cell_type": "markdown",
      "metadata": {
        "id": "E4ea9eY6nT-q"
      },
      "source": [
        "# Data"
      ]
    },
    {
      "cell_type": "code",
      "execution_count": null,
      "metadata": {
        "colab": {
          "base_uri": "https://localhost:8080/"
        },
        "id": "ud6lfqb-m-rr",
        "outputId": "ac705404-d77c-4a66-b364-b7cb5a62005a"
      },
      "outputs": [
        {
          "name": "stdout",
          "output_type": "stream",
          "text": [
            "Mounted at /content/drive\n"
          ]
        }
      ],
      "source": [
        "from google.colab import drive\n",
        "drive.mount('/content/drive')"
      ]
    },
    {
      "cell_type": "code",
      "execution_count": null,
      "metadata": {
        "id": "nMsO2X9Dr6W4"
      },
      "outputs": [],
      "source": [
        "import numpy as np\n",
        "import pandas as pd\n",
        "from matplotlib import pyplot as plt\n",
        "import random\n",
        "\n",
        "import tensorflow as tf\n",
        "from tensorflow.keras.models import Model, Sequential\n",
        "from tensorflow.keras.layers import Dense\n",
        "from keras.models import Sequential\n",
        "from keras.layers import LSTM\n",
        "from keras.layers import Dense\n",
        "from keras.layers import RepeatVector\n",
        "from keras.layers import TimeDistributed\n",
        "\n",
        "from sklearn.preprocessing import StandardScaler\n",
        "from sklearn.metrics import auc, accuracy_score, confusion_matrix, mean_squared_error\n",
        "from sklearn.model_selection import cross_val_score, GridSearchCV, KFold, RandomizedSearchCV, train_test_split\n",
        "from sklearn.metrics import classification_report\n",
        "from sklearn.svm import SVC\n",
        "from sklearn.tree import DecisionTreeClassifier, ExtraTreeClassifier\n",
        "from sklearn.ensemble import RandomForestClassifier\n",
        "import seaborn as sns\n",
        "from datetime import datetime\n",
        "from sklearn.metrics import roc_auc_score\n",
        "from sklearn.model_selection import StratifiedKFold\n",
        "from xgboost import XGBClassifier\n",
        "import warnings\n",
        "warnings.filterwarnings('ignore')"
      ]
    },
    {
      "cell_type": "code",
      "execution_count": null,
      "metadata": {
        "id": "xLf_SyJUqUHW"
      },
      "outputs": [],
      "source": [
        "trials_all1 = []\n",
        "classes_all1 = []\n",
        "trials_all2 = []\n",
        "classes_all2 = []\n",
        "trials_all3 = []\n",
        "classes_all3 = []\n",
        "trials_all4 = []\n",
        "classes_all4 = []\n",
        "trials_all5 = []\n",
        "classes_all5 = []"
      ]
    },
    {
      "cell_type": "markdown",
      "metadata": {
        "id": "tQF0tn9yqcFr"
      },
      "source": [
        "# Loop Over Objects (A01T-A09T)"
      ]
    },
    {
      "cell_type": "code",
      "execution_count": null,
      "metadata": {
        "id": "-nuMsYzqnXvK"
      },
      "outputs": [],
      "source": [
        "path = '/content/drive/MyDrive/EEG/Data/A09T.npz'"
      ]
    },
    {
      "cell_type": "code",
      "execution_count": null,
      "metadata": {
        "id": "VhbkNGAUqMIv"
      },
      "outputs": [],
      "source": [
        "\n",
        "class MotorImageryDataset:\n",
        "    def __init__(self, dataset=path):\n",
        "        if not dataset.endswith('.npz'):\n",
        "            dataset += '.npz'\n",
        "\n",
        "        self.data = np.load(dataset)\n",
        "\n",
        "        self.Fs = 250  # 250Hz from original paper\n",
        "\n",
        "        # keys of data ['s', 'etyp', 'epos', 'edur', 'artifacts']\n",
        "\n",
        "        self.raw = self.data['s'].T\n",
        "        self.events_type = self.data['etyp'].T\n",
        "        self.events_position = self.data['epos'].T\n",
        "        self.events_duration = self.data['edur'].T\n",
        "        self.artifacts = self.data['artifacts'].T\n",
        "\n",
        "        # Types of motor imagery\n",
        "        self.mi_types = {769: 'left', 770: 'right',\n",
        "                         771: 'foot', 772: 'tongue', 783: 'unknown'}\n",
        "\n",
        "    def get_trials_from_channel(self, channel=7):\n",
        "\n",
        "        # Channel default is C3\n",
        "\n",
        "        startrial_code = 768\n",
        "        starttrial_events = self.events_type == startrial_code\n",
        "        idxs = [i for i, x in enumerate(starttrial_events[0]) if x]\n",
        "\n",
        "        trials = []\n",
        "        classes = []\n",
        "\n",
        "        for index in idxs:\n",
        "            try:\n",
        "                type_e = self.events_type[0, index+1]\n",
        "                class_e = self.mi_types[type_e]\n",
        "                classes.append(class_e)\n",
        "\n",
        "                start = self.events_position[0, index]\n",
        "                stop = start + self.events_duration[0, index]\n",
        "                trial = self.raw[channel, start:stop]\n",
        "                trial = trial.reshape((1, -1))\n",
        "                trials.append(trial)\n",
        "\n",
        "            except:\n",
        "                continue\n",
        "\n",
        "        return trials, classes\n",
        "\n",
        "    def get_trials_from_channels(self, channels=[7, 9, 11]):\n",
        "        trials_c = []\n",
        "        classes_c = []\n",
        "        for c in channels:\n",
        "            t, c = self.get_trials_from_channel(channel=c)\n",
        "\n",
        "            tt = np.concatenate(t, axis=0)\n",
        "            trials_c.append(tt)\n",
        "            classes_c.append(c)\n",
        "\n",
        "        return trials_c, classes_c"
      ]
    },
    {
      "cell_type": "code",
      "execution_count": null,
      "metadata": {
        "id": "ffctYQtHqXnq"
      },
      "outputs": [],
      "source": [
        "datasetA1 = MotorImageryDataset(path)\n",
        "trials, classes = datasetA1.get_trials_from_channels([7, 9, 11])"
      ]
    },
    {
      "cell_type": "code",
      "execution_count": null,
      "metadata": {
        "id": "GsqPAt0_qa-T"
      },
      "outputs": [],
      "source": [
        "for trial in trials[0]:\n",
        "  trials_all1.append(trial)\n",
        "for clas in classes[0]:\n",
        "  classes_all1.append(clas)\n",
        "\n",
        "for trial in trials[1]:\n",
        "  trials_all2.append(trial)\n",
        "for clas in classes[1]:\n",
        "  classes_all2.append(clas)\n",
        "\n",
        "for trial in trials[2]:\n",
        "  trials_all3.append(trial)\n",
        "for clas in classes[2]:\n",
        "  classes_all3.append(clas)\n"
      ]
    },
    {
      "cell_type": "code",
      "execution_count": null,
      "metadata": {
        "colab": {
          "base_uri": "https://localhost:8080/"
        },
        "id": "5Qc60BEIfNEe",
        "outputId": "36d9c74b-c0e0-41e4-cccc-b483cb9eee55"
      },
      "outputs": [
        {
          "data": {
            "text/plain": [
              "0"
            ]
          },
          "execution_count": 10,
          "metadata": {},
          "output_type": "execute_result"
        }
      ],
      "source": [
        "len(classes_all3)"
      ]
    },
    {
      "cell_type": "code",
      "execution_count": null,
      "metadata": {
        "colab": {
          "base_uri": "https://localhost:8080/"
        },
        "id": "uYnrs7JIqsPz",
        "outputId": "d7a01dfb-17a2-42a4-fc23-23c4200ac0db"
      },
      "outputs": [
        {
          "data": {
            "text/plain": [
              "(0,)"
            ]
          },
          "execution_count": 11,
          "metadata": {},
          "output_type": "execute_result"
        }
      ],
      "source": [
        "np.array(trials_all1).shape"
      ]
    },
    {
      "cell_type": "markdown",
      "metadata": {
        "id": "y0b3dm4Irz4Q"
      },
      "source": [
        "# Save Data"
      ]
    },
    {
      "cell_type": "code",
      "execution_count": null,
      "metadata": {
        "id": "2-oVTNFxrbTz"
      },
      "outputs": [],
      "source": [
        "trials_all1_df = pd.DataFrame(trials_all1)\n",
        "trials_all2_df = pd.DataFrame(trials_all2)\n",
        "trials_all3_df = pd.DataFrame(trials_all3)\n",
        "\n",
        "\n",
        "classes_all1_df = pd.DataFrame(classes_all1)\n",
        "classes_all2_df = pd.DataFrame(classes_all2)\n",
        "classes_all3_df = pd.DataFrame(classes_all3)"
      ]
    },
    {
      "cell_type": "code",
      "execution_count": null,
      "metadata": {
        "id": "dQAkS3Dhr_yb"
      },
      "outputs": [],
      "source": [
        "trials_all1_df.to_csv('/content/drive/My Drive/EEG/Data/trials_all1_df.csv', encoding='utf-8')\n",
        "trials_all2_df.to_csv('/content/drive/My Drive/EEG/Data/trials_all2_df.csv', encoding='utf-8')\n",
        "trials_all3_df.to_csv('/content/drive/My Drive/EEG/Data/trials_all3_df.csv', encoding='utf-8')\n",
        "\n",
        "\n",
        "classes_all1_df.to_csv('/content/drive/My Drive/EEG/Data/classes_all1_df.csv', encoding='utf-8')\n",
        "classes_all2_df.to_csv('/content/drive/My Drive/EEG/Data/classes_all2_df.csv', encoding='utf-8')\n",
        "classes_all3_df.to_csv('/content/drive/My Drive/EEG/Data/classes_all3_df.csv', encoding='utf-8')"
      ]
    },
    {
      "cell_type": "markdown",
      "metadata": {
        "id": "SCZZjWlvsNlp"
      },
      "source": [
        "# Load Data"
      ]
    },
    {
      "cell_type": "code",
      "execution_count": null,
      "metadata": {
        "id": "3ci5pHeBsHSz"
      },
      "outputs": [],
      "source": [
        "trials1_pd = pd.read_csv('/content/drive/My Drive/EEG/Data/trials_all1_df.csv')\n",
        "trials1_pd.drop([\"Unnamed: 0\"], axis=1,inplace=True)\n",
        "\n",
        "classes1_df = pd.read_csv('/content/drive/My Drive/EEG/Data/classes_all1_df.csv')\n",
        "classes1_df.drop([\"Unnamed: 0\"], axis=1,inplace=True)\n",
        "trials2_pd = pd.read_csv('/content/drive/My Drive/EEG/Data/trials_all2_df.csv')\n",
        "trials2_pd.drop([\"Unnamed: 0\"], axis=1,inplace=True)\n",
        "\n",
        "classes2_df = pd.read_csv('/content/drive/My Drive/EEG/Data/classes_all2_df.csv')\n",
        "classes2_df.drop([\"Unnamed: 0\"], axis=1,inplace=True)\n",
        "trials3_pd = pd.read_csv('/content/drive/My Drive/EEG/Data/trials_all3_df.csv')\n",
        "trials3_pd.drop([\"Unnamed: 0\"], axis=1,inplace=True)\n",
        "\n",
        "classes3_df = pd.read_csv('/content/drive/My Drive/EEG/Data/classes_all3_df.csv')\n",
        "classes3_df.drop([\"Unnamed: 0\"], axis=1,inplace=True)"
      ]
    },
    {
      "cell_type": "code",
      "execution_count": null,
      "metadata": {
        "id": "7ySJYI67sTzF"
      },
      "outputs": [],
      "source": [
        "# Merging \n",
        "trials = pd.concat([trials1_pd, trials2_pd, trials3_pd], axis=0)\n",
        "classes = pd.concat([classes1_df, classes2_df, classes3_df], axis=0)"
      ]
    },
    {
      "cell_type": "code",
      "execution_count": null,
      "metadata": {
        "colab": {
          "base_uri": "https://localhost:8080/"
        },
        "id": "Ru-fS2wDsar0",
        "outputId": "9a855a16-5fc1-4d4b-da83-33f522f5d40f"
      },
      "outputs": [
        {
          "data": {
            "text/plain": [
              "(6984, 1875)"
            ]
          },
          "execution_count": 16,
          "metadata": {},
          "output_type": "execute_result"
        }
      ],
      "source": [
        "trials.shape"
      ]
    },
    {
      "cell_type": "code",
      "execution_count": null,
      "metadata": {
        "colab": {
          "base_uri": "https://localhost:8080/",
          "height": 423
        },
        "id": "Cz86nsvmsghT",
        "outputId": "4e752c48-b990-41c4-b0af-108049e1d883"
      },
      "outputs": [
        {
          "data": {
            "text/html": [
              "\n",
              "  <div id=\"df-d6c0ecf0-e54b-472b-96c1-2920290643a3\">\n",
              "    <div class=\"colab-df-container\">\n",
              "      <div>\n",
              "<style scoped>\n",
              "    .dataframe tbody tr th:only-of-type {\n",
              "        vertical-align: middle;\n",
              "    }\n",
              "\n",
              "    .dataframe tbody tr th {\n",
              "        vertical-align: top;\n",
              "    }\n",
              "\n",
              "    .dataframe thead th {\n",
              "        text-align: right;\n",
              "    }\n",
              "</style>\n",
              "<table border=\"1\" class=\"dataframe\">\n",
              "  <thead>\n",
              "    <tr style=\"text-align: right;\">\n",
              "      <th></th>\n",
              "      <th>0</th>\n",
              "    </tr>\n",
              "  </thead>\n",
              "  <tbody>\n",
              "    <tr>\n",
              "      <th>0</th>\n",
              "      <td>right</td>\n",
              "    </tr>\n",
              "    <tr>\n",
              "      <th>1</th>\n",
              "      <td>right</td>\n",
              "    </tr>\n",
              "    <tr>\n",
              "      <th>2</th>\n",
              "      <td>tongue</td>\n",
              "    </tr>\n",
              "    <tr>\n",
              "      <th>3</th>\n",
              "      <td>foot</td>\n",
              "    </tr>\n",
              "    <tr>\n",
              "      <th>4</th>\n",
              "      <td>right</td>\n",
              "    </tr>\n",
              "    <tr>\n",
              "      <th>...</th>\n",
              "      <td>...</td>\n",
              "    </tr>\n",
              "    <tr>\n",
              "      <th>2323</th>\n",
              "      <td>foot</td>\n",
              "    </tr>\n",
              "    <tr>\n",
              "      <th>2324</th>\n",
              "      <td>tongue</td>\n",
              "    </tr>\n",
              "    <tr>\n",
              "      <th>2325</th>\n",
              "      <td>foot</td>\n",
              "    </tr>\n",
              "    <tr>\n",
              "      <th>2326</th>\n",
              "      <td>left</td>\n",
              "    </tr>\n",
              "    <tr>\n",
              "      <th>2327</th>\n",
              "      <td>foot</td>\n",
              "    </tr>\n",
              "  </tbody>\n",
              "</table>\n",
              "<p>6984 rows × 1 columns</p>\n",
              "</div>\n",
              "      <button class=\"colab-df-convert\" onclick=\"convertToInteractive('df-d6c0ecf0-e54b-472b-96c1-2920290643a3')\"\n",
              "              title=\"Convert this dataframe to an interactive table.\"\n",
              "              style=\"display:none;\">\n",
              "        \n",
              "  <svg xmlns=\"http://www.w3.org/2000/svg\" height=\"24px\"viewBox=\"0 0 24 24\"\n",
              "       width=\"24px\">\n",
              "    <path d=\"M0 0h24v24H0V0z\" fill=\"none\"/>\n",
              "    <path d=\"M18.56 5.44l.94 2.06.94-2.06 2.06-.94-2.06-.94-.94-2.06-.94 2.06-2.06.94zm-11 1L8.5 8.5l.94-2.06 2.06-.94-2.06-.94L8.5 2.5l-.94 2.06-2.06.94zm10 10l.94 2.06.94-2.06 2.06-.94-2.06-.94-.94-2.06-.94 2.06-2.06.94z\"/><path d=\"M17.41 7.96l-1.37-1.37c-.4-.4-.92-.59-1.43-.59-.52 0-1.04.2-1.43.59L10.3 9.45l-7.72 7.72c-.78.78-.78 2.05 0 2.83L4 21.41c.39.39.9.59 1.41.59.51 0 1.02-.2 1.41-.59l7.78-7.78 2.81-2.81c.8-.78.8-2.07 0-2.86zM5.41 20L4 18.59l7.72-7.72 1.47 1.35L5.41 20z\"/>\n",
              "  </svg>\n",
              "      </button>\n",
              "      \n",
              "  <style>\n",
              "    .colab-df-container {\n",
              "      display:flex;\n",
              "      flex-wrap:wrap;\n",
              "      gap: 12px;\n",
              "    }\n",
              "\n",
              "    .colab-df-convert {\n",
              "      background-color: #E8F0FE;\n",
              "      border: none;\n",
              "      border-radius: 50%;\n",
              "      cursor: pointer;\n",
              "      display: none;\n",
              "      fill: #1967D2;\n",
              "      height: 32px;\n",
              "      padding: 0 0 0 0;\n",
              "      width: 32px;\n",
              "    }\n",
              "\n",
              "    .colab-df-convert:hover {\n",
              "      background-color: #E2EBFA;\n",
              "      box-shadow: 0px 1px 2px rgba(60, 64, 67, 0.3), 0px 1px 3px 1px rgba(60, 64, 67, 0.15);\n",
              "      fill: #174EA6;\n",
              "    }\n",
              "\n",
              "    [theme=dark] .colab-df-convert {\n",
              "      background-color: #3B4455;\n",
              "      fill: #D2E3FC;\n",
              "    }\n",
              "\n",
              "    [theme=dark] .colab-df-convert:hover {\n",
              "      background-color: #434B5C;\n",
              "      box-shadow: 0px 1px 3px 1px rgba(0, 0, 0, 0.15);\n",
              "      filter: drop-shadow(0px 1px 2px rgba(0, 0, 0, 0.3));\n",
              "      fill: #FFFFFF;\n",
              "    }\n",
              "  </style>\n",
              "\n",
              "      <script>\n",
              "        const buttonEl =\n",
              "          document.querySelector('#df-d6c0ecf0-e54b-472b-96c1-2920290643a3 button.colab-df-convert');\n",
              "        buttonEl.style.display =\n",
              "          google.colab.kernel.accessAllowed ? 'block' : 'none';\n",
              "\n",
              "        async function convertToInteractive(key) {\n",
              "          const element = document.querySelector('#df-d6c0ecf0-e54b-472b-96c1-2920290643a3');\n",
              "          const dataTable =\n",
              "            await google.colab.kernel.invokeFunction('convertToInteractive',\n",
              "                                                     [key], {});\n",
              "          if (!dataTable) return;\n",
              "\n",
              "          const docLinkHtml = 'Like what you see? Visit the ' +\n",
              "            '<a target=\"_blank\" href=https://colab.research.google.com/notebooks/data_table.ipynb>data table notebook</a>'\n",
              "            + ' to learn more about interactive tables.';\n",
              "          element.innerHTML = '';\n",
              "          dataTable['output_type'] = 'display_data';\n",
              "          await google.colab.output.renderOutput(dataTable, element);\n",
              "          const docLink = document.createElement('div');\n",
              "          docLink.innerHTML = docLinkHtml;\n",
              "          element.appendChild(docLink);\n",
              "        }\n",
              "      </script>\n",
              "    </div>\n",
              "  </div>\n",
              "  "
            ],
            "text/plain": [
              "           0\n",
              "0      right\n",
              "1      right\n",
              "2     tongue\n",
              "3       foot\n",
              "4      right\n",
              "...      ...\n",
              "2323    foot\n",
              "2324  tongue\n",
              "2325    foot\n",
              "2326    left\n",
              "2327    foot\n",
              "\n",
              "[6984 rows x 1 columns]"
            ]
          },
          "execution_count": 17,
          "metadata": {},
          "output_type": "execute_result"
        }
      ],
      "source": [
        "classes"
      ]
    },
    {
      "cell_type": "markdown",
      "metadata": {
        "id": "VfBIZHvxs8eH"
      },
      "source": [
        "# Preprocessing"
      ]
    },
    {
      "cell_type": "code",
      "execution_count": null,
      "metadata": {
        "colab": {
          "base_uri": "https://localhost:8080/"
        },
        "id": "nLu1uv7Us-rK",
        "outputId": "d0a88ad7-bd1c-4873-e956-6c057d9edfd9"
      },
      "outputs": [
        {
          "name": "stdout",
          "output_type": "stream",
          "text": [
            "False    6984\n",
            "dtype: int64\n"
          ]
        }
      ],
      "source": [
        "# Check for Duplication\n",
        "print(trials.duplicated().value_counts())"
      ]
    },
    {
      "cell_type": "code",
      "execution_count": null,
      "metadata": {
        "colab": {
          "base_uri": "https://localhost:8080/"
        },
        "id": "Li63x-dQtDrg",
        "outputId": "24836e7e-dafd-4b83-95f4-94c5c0628410"
      },
      "outputs": [
        {
          "data": {
            "text/plain": [
              "0     \n",
              "right     1773\n",
              "tongue    1773\n",
              "foot      1722\n",
              "left      1716\n",
              "dtype: int64"
            ]
          },
          "execution_count": 19,
          "metadata": {},
          "output_type": "execute_result"
        }
      ],
      "source": [
        "# Balance Check\n",
        "classes.value_counts()"
      ]
    },
    {
      "cell_type": "markdown",
      "metadata": {
        "id": "kRI7OjxvsmNQ"
      },
      "source": [
        "# Label Mapping and Split"
      ]
    },
    {
      "cell_type": "code",
      "execution_count": null,
      "metadata": {
        "id": "dDPcLlZPshrD"
      },
      "outputs": [],
      "source": [
        "from sklearn.model_selection import train_test_split\n",
        "from sklearn.metrics import multilabel_confusion_matrix"
      ]
    },
    {
      "cell_type": "code",
      "execution_count": null,
      "metadata": {
        "id": "trNY5Ic0sqnr"
      },
      "outputs": [],
      "source": [
        "label_mapping = {'left': 0,'right': 1,'foot': 2, 'tongue': 3}"
      ]
    },
    {
      "cell_type": "code",
      "execution_count": null,
      "metadata": {
        "id": "TUaBPChTstaz"
      },
      "outputs": [],
      "source": [
        "y = classes\n",
        "y = y.replace(label_mapping)"
      ]
    },
    {
      "cell_type": "code",
      "execution_count": null,
      "metadata": {
        "id": "cVCbuh59svpz"
      },
      "outputs": [],
      "source": [
        "x = trials"
      ]
    },
    {
      "cell_type": "code",
      "execution_count": null,
      "metadata": {
        "id": "-ZmFqlBeswxD"
      },
      "outputs": [],
      "source": [
        "x_numpy = np.array(x)\n",
        "y_numpy = np.array(y)"
      ]
    },
    {
      "cell_type": "code",
      "execution_count": null,
      "metadata": {
        "colab": {
          "base_uri": "https://localhost:8080/"
        },
        "id": "YkMyY20Lsx7L",
        "outputId": "0d3da16f-9b33-470f-a29a-b2a5328859fb"
      },
      "outputs": [
        {
          "data": {
            "text/plain": [
              "(6984, 1875)"
            ]
          },
          "execution_count": 25,
          "metadata": {},
          "output_type": "execute_result"
        }
      ],
      "source": [
        "x_numpy.shape"
      ]
    },
    {
      "cell_type": "code",
      "execution_count": null,
      "metadata": {
        "id": "j-C09w7ItdGW"
      },
      "outputs": [],
      "source": [
        "xtrain, xtest, ytrain, ytest = train_test_split(x_numpy,y_numpy,train_size = 0.8)"
      ]
    },
    {
      "cell_type": "code",
      "execution_count": null,
      "metadata": {
        "colab": {
          "base_uri": "https://localhost:8080/"
        },
        "id": "rubOmF4Ln0y5",
        "outputId": "8d85ed76-8906-4960-d6cd-59ab65f18df1"
      },
      "outputs": [
        {
          "data": {
            "text/plain": [
              "(5587, 1875)"
            ]
          },
          "execution_count": 27,
          "metadata": {},
          "output_type": "execute_result"
        }
      ],
      "source": [
        "xtrain.shape"
      ]
    },
    {
      "cell_type": "markdown",
      "metadata": {
        "id": "n6ErL4I3Vo1h"
      },
      "source": [
        "# Save"
      ]
    },
    {
      "cell_type": "code",
      "execution_count": null,
      "metadata": {
        "id": "ROBkM2sUV_gB"
      },
      "outputs": [],
      "source": [
        "xtrain_pd = pd.DataFrame(xtrain)\n",
        "xtest_pd = pd.DataFrame(xtest)\n",
        "ytrain_pd = pd.DataFrame(ytrain)\n",
        "ytest_pd = pd.DataFrame(ytest)"
      ]
    },
    {
      "cell_type": "code",
      "execution_count": null,
      "metadata": {
        "id": "IFpZTDToVjOX"
      },
      "outputs": [],
      "source": [
        "xtrain_pd.to_csv('/content/drive/My Drive/EEG/Data/xtrain.csv', encoding='utf-8')\n",
        "xtest_pd.to_csv('/content/drive/My Drive/EEG/Data/xtest.csv', encoding='utf-8')\n",
        "ytrain_pd.to_csv('/content/drive/My Drive/EEG/Data/ytrain.csv', encoding='utf-8')\n",
        "ytest_pd.to_csv('/content/drive/My Drive/EEG/Data/ytest.csv', encoding='utf-8')"
      ]
    },
    {
      "cell_type": "markdown",
      "metadata": {
        "id": "T5Vgffo7V5aW"
      },
      "source": [
        "# Load"
      ]
    },
    {
      "cell_type": "code",
      "execution_count": null,
      "metadata": {
        "id": "RCEQF5N0V7Nq"
      },
      "outputs": [],
      "source": [
        "xtrain_pd = pd.read_csv('/content/drive/My Drive/EEG/Data/xtrain.csv')\n",
        "xtrain_pd.drop([\"Unnamed: 0\"], axis=1,inplace=True)\n",
        "xtrain = np.array(xtrain_pd)\n",
        "\n",
        "xtest_pd = pd.read_csv('/content/drive/My Drive/EEG/Data/xtest.csv')\n",
        "xtest_pd.drop([\"Unnamed: 0\"], axis=1,inplace=True)\n",
        "xtest = np.array(xtest_pd)\n",
        "\n",
        "ytrain_pd = pd.read_csv('/content/drive/My Drive/EEG/Data/ytrain.csv')\n",
        "ytrain_pd.drop([\"Unnamed: 0\"], axis=1,inplace=True)\n",
        "ytrain = np.array(ytrain_pd)\n",
        "\n",
        "ytest_pd = pd.read_csv('/content/drive/My Drive/EEG/Data/ytest.csv')\n",
        "ytest_pd.drop([\"Unnamed: 0\"], axis=1,inplace=True)\n",
        "ytest = np.array(ytest_pd)"
      ]
    },
    {
      "cell_type": "markdown",
      "metadata": {
        "id": "JP106Pn_tr92"
      },
      "source": [
        "# Feature Extraction with LSTM"
      ]
    },
    {
      "cell_type": "code",
      "execution_count": null,
      "metadata": {
        "colab": {
          "base_uri": "https://localhost:8080/"
        },
        "id": "8tn0dhMEuMgp",
        "outputId": "96e80eb8-100b-4d81-cdd6-39ca6035b991"
      },
      "outputs": [
        {
          "data": {
            "text/plain": [
              "(5587, 1, 1875)"
            ]
          },
          "execution_count": 31,
          "metadata": {},
          "output_type": "execute_result"
        }
      ],
      "source": [
        "extended_train = []\n",
        "for trial in xtrain:\n",
        "  extended_train.append([trial])\n",
        "xtrain1 = np.array(extended_train)\n",
        "xtrain1.shape"
      ]
    },
    {
      "cell_type": "code",
      "execution_count": null,
      "metadata": {
        "colab": {
          "base_uri": "https://localhost:8080/"
        },
        "id": "h841GESWuO94",
        "outputId": "9c5ba80a-b290-4ae1-9891-8001180ba233"
      },
      "outputs": [
        {
          "data": {
            "text/plain": [
              "(1397, 1, 1875)"
            ]
          },
          "execution_count": 32,
          "metadata": {},
          "output_type": "execute_result"
        }
      ],
      "source": [
        "extended_test = []\n",
        "for trial in xtest:\n",
        "  extended_test.append([trial])\n",
        "xtest1 = np.array(extended_test)\n",
        "xtest1.shape"
      ]
    },
    {
      "cell_type": "code",
      "execution_count": null,
      "metadata": {
        "id": "jm-x-uRguBnY"
      },
      "outputs": [],
      "source": [
        "ex_data = np.concatenate((extended_train, extended_test), axis=0)"
      ]
    },
    {
      "cell_type": "code",
      "execution_count": null,
      "metadata": {
        "colab": {
          "base_uri": "https://localhost:8080/"
        },
        "id": "c7q0-F5y-XEz",
        "outputId": "8b8caca1-a829-4e91-f527-ed32817dd4aa"
      },
      "outputs": [
        {
          "data": {
            "text/plain": [
              "(6984, 1, 1875)"
            ]
          },
          "execution_count": 34,
          "metadata": {},
          "output_type": "execute_result"
        }
      ],
      "source": [
        "ex_data.shape"
      ]
    },
    {
      "cell_type": "code",
      "execution_count": null,
      "metadata": {
        "id": "M3URj3wCtq2b"
      },
      "outputs": [],
      "source": [
        "timesteps = 1\n",
        "n_features = 1875"
      ]
    },
    {
      "cell_type": "code",
      "execution_count": null,
      "metadata": {
        "id": "N_QuxsYbt8LJ"
      },
      "outputs": [],
      "source": [
        "# This is the dimension of the original space\n",
        "input_dim = 1875\n",
        "\n",
        "\n",
        "encoder = Sequential([\n",
        "    LSTM(1024, activation='selu', input_shape=(timesteps,n_features), return_sequences=False),\n",
        "    RepeatVector(timesteps)\n",
        "])\n",
        "\n",
        "decoder = Sequential([\n",
        "    LSTM(1024, activation='selu', input_shape=(1,1024),return_sequences=True),\n",
        "    TimeDistributed(Dense(n_features))\n",
        "])"
      ]
    },
    {
      "cell_type": "code",
      "execution_count": null,
      "metadata": {
        "colab": {
          "base_uri": "https://localhost:8080/"
        },
        "id": "FHZUxA2ri0wi",
        "outputId": "261248d7-35cb-4737-c0b5-34d61cd0ba65"
      },
      "outputs": [
        {
          "data": {
            "text/plain": [
              "6984"
            ]
          },
          "execution_count": 38,
          "metadata": {},
          "output_type": "execute_result"
        }
      ],
      "source": [
        "len(ex_data)"
      ]
    },
    {
      "cell_type": "code",
      "execution_count": null,
      "metadata": {
        "id": "WLG3RvzNt_Uv"
      },
      "outputs": [],
      "source": [
        "autoencoder = Model(inputs=encoder.input, outputs=decoder(encoder.output))\n",
        "autoencoder.compile(loss='mean_absolute_error', optimizer='adam')"
      ]
    },
    {
      "cell_type": "code",
      "execution_count": null,
      "metadata": {
        "id": "3pxwCjMuuYms"
      },
      "outputs": [],
      "source": [
        "model_history = autoencoder.fit(ex_data, ex_data, epochs=100, batch_size=128, verbose=0)"
      ]
    },
    {
      "cell_type": "code",
      "execution_count": null,
      "metadata": {
        "colab": {
          "base_uri": "https://localhost:8080/",
          "height": 313
        },
        "id": "eztVkmb0uao0",
        "outputId": "54973d95-7059-4fa9-a83b-d8114ea35532"
      },
      "outputs": [
        {
          "data": {
            "text/plain": [
              "Text(0.5, 0, 'Epoch')"
            ]
          },
          "execution_count": 41,
          "metadata": {},
          "output_type": "execute_result"
        },
        {
          "data": {
            "image/png": "[encoded data removed]",
            "text/plain": [
              "<Figure size 432x288 with 1 Axes>"
            ]
          },
          "metadata": {
            "needs_background": "light"
          },
          "output_type": "display_data"
        }
      ],
      "source": [
        "plt.plot(model_history.history[\"loss\"])\n",
        "plt.title(\"Loss vs. Epoch\")\n",
        "plt.ylabel(\"Loss\")\n",
        "plt.xlabel(\"Epoch\") "
      ]
    },
    {
      "cell_type": "code",
      "execution_count": null,
      "metadata": {
        "colab": {
          "base_uri": "https://localhost:8080/"
        },
        "id": "X5fm00QRugeb",
        "outputId": "bbb0876b-c741-484f-c27c-c7c866c76c2d"
      },
      "outputs": [
        {
          "data": {
            "text/plain": [
              "TensorShape([5587, 1, 1024])"
            ]
          },
          "execution_count": 42,
          "metadata": {},
          "output_type": "execute_result"
        }
      ],
      "source": [
        "encoded_x_train = encoder(xtrain1)\n",
        "encoded_x_train.shape"
      ]
    },
    {
      "cell_type": "code",
      "execution_count": null,
      "metadata": {
        "id": "1tWpK9kJugi6"
      },
      "outputs": [],
      "source": [
        "encoded_x_test = encoder(xtest1)    "
      ]
    },
    {
      "cell_type": "markdown",
      "metadata": {
        "id": "m6bVZ--XudOR"
      },
      "source": [
        "# Hyperparameter tuning with Grid Search"
      ]
    },
    {
      "cell_type": "code",
      "execution_count": null,
      "metadata": {
        "id": "E2Ys4IDxvKOO"
      },
      "outputs": [],
      "source": [
        "en_train_list = []\n",
        "for item in encoded_x_train:\n",
        "  en_train_list.append(item[0])\n",
        "en_train = np.array(en_train_list)"
      ]
    },
    {
      "cell_type": "code",
      "execution_count": null,
      "metadata": {
        "id": "3b2A1YwGvKTN"
      },
      "outputs": [],
      "source": [
        "en_test_list = []\n",
        "for item in encoded_x_test:\n",
        "  en_test_list.append(item[0])\n",
        "en_test = np.array(en_test_list)"
      ]
    },
    {
      "cell_type": "code",
      "execution_count": null,
      "metadata": {
        "colab": {
          "base_uri": "https://localhost:8080/"
        },
        "id": "j6O77sNevYoG",
        "outputId": "e5f3a5ed-e75b-49a8-970a-96f6f68bda63"
      },
      "outputs": [
        {
          "data": {
            "text/plain": [
              "array([2, 0, 2, ..., 1, 1, 3])"
            ]
          },
          "execution_count": 46,
          "metadata": {},
          "output_type": "execute_result"
        }
      ],
      "source": [
        "y_n = np.array(ytest)\n",
        "ytl = []\n",
        "for l in y_n:\n",
        "  ytl.append(l[0])\n",
        "y_num_test = np.array(ytl)\n",
        "y_num_test"
      ]
    },
    {
      "cell_type": "code",
      "execution_count": null,
      "metadata": {
        "id": "D7bdlZtsuvK9"
      },
      "outputs": [],
      "source": [
        "# A parameter grid for XGBoost\n",
        "params = {\n",
        "        'min_child_weight': [1, 5, 10],\n",
        "        'gamma': [0.5, 1, 1.5, 2, 5],\n",
        "        'subsample': [0.6, 0.8, 1.0],\n",
        "        'colsample_bytree': [0.6, 0.8, 1.0],\n",
        "        'max_depth': [3, 4, 5]\n",
        "        }"
      ]
    },
    {
      "cell_type": "code",
      "execution_count": null,
      "metadata": {
        "id": "Qecb-W7Ru6mW"
      },
      "outputs": [],
      "source": [
        "xgb = XGBClassifier(n_estimators=600, objective='multi:softprob',\n",
        "                    silent=True, nthread=1)"
      ]
    },
    {
      "cell_type": "code",
      "execution_count": null,
      "metadata": {
        "id": "IhBLWe8OvB8a"
      },
      "outputs": [],
      "source": [
        "folds = 3\n",
        "param_comb = 5\n",
        "\n",
        "skf = StratifiedKFold(n_splits=folds, shuffle = True, random_state = 42)\n",
        "\n",
        "random_search = RandomizedSearchCV(xgb, param_distributions=params, n_iter=param_comb, scoring='roc_auc', n_jobs=4, cv=skf.split(en_train, ytrain), verbose=3, random_state=42 )\n",
        "\n",
        "random_search.fit(en_train, ytrain)"
      ]
    },
    {
      "cell_type": "code",
      "execution_count": null,
      "metadata": {
        "id": "1b64-GcmvB-5"
      },
      "outputs": [],
      "source": [
        "print('\\n Best estimator:')\n",
        "print(random_search.best_estimator_) "
      ]
    },
    {
      "cell_type": "markdown",
      "metadata": {
        "id": "wyV8_4Iiv0K7"
      },
      "source": [
        "# XGboost"
      ]
    },
    {
      "cell_type": "code",
      "execution_count": null,
      "metadata": {
        "id": "k32kB1HLuvNe"
      },
      "outputs": [],
      "source": [
        "xgb_model = XGBClassifier(colsample_bytree=0.6, gamma=1.5, max_depth=4, min_child_weight=10,\n",
        "              n_estimators=600, nthread=1, objective='multi:softprob',\n",
        "              silent=True, subsample=0.8)\n",
        "xgb_model.fit(en_train, ytrain)\n",
        "\n",
        "y_pred = xgb_model.predict(en_test)"
      ]
    },
    {
      "cell_type": "code",
      "execution_count": null,
      "metadata": {
        "id": "5qMbB36M6ipr"
      },
      "outputs": [],
      "source": [
        "xgb_acc = accuracy_score(y_num_test, y_pred)"
      ]
    },
    {
      "cell_type": "code",
      "execution_count": null,
      "metadata": {
        "colab": {
          "base_uri": "https://localhost:8080/"
        },
        "id": "Lu459ImLuzZV",
        "outputId": "69893fb0-75a9-4971-970e-342cf1edcc7f"
      },
      "outputs": [
        {
          "name": "stdout",
          "output_type": "stream",
          "text": [
            "0.8174659985683608\n"
          ]
        }
      ],
      "source": [
        "print(accuracy_score(y_num_test, y_pred))"
      ]
    },
    {
      "cell_type": "code",
      "execution_count": null,
      "metadata": {
        "colab": {
          "base_uri": "https://localhost:8080/"
        },
        "id": "sOq1BYCrb2Dg",
        "outputId": "e7b71122-ee3c-418c-d23b-bbb1cc82693c"
      },
      "outputs": [
        {
          "name": "stdout",
          "output_type": "stream",
          "text": [
            "GridSearchCV(estimator=SVC(),\n",
            "             param_grid=[{'C': [1, 10, 100, 1000], 'kernel': ['linear']},\n",
            "                         {'C': [1, 10, 100, 1000], 'gamma': [0.001, 0.0001],\n",
            "                          'kernel': ['rbf']}])\n",
            "0.6441698710608372\n",
            "SVC(C=10, gamma=0.0001)\n"
          ]
        }
      ],
      "source": [
        "param_grid = [\n",
        "  {'C': [1, 10, 100, 1000], 'kernel': ['linear']},\n",
        "  {'C': [1, 10, 100, 1000], 'gamma': [0.001, 0.0001], 'kernel': ['rbf']},\n",
        " ]\n",
        "model = SVC()\n",
        "grid = GridSearchCV(estimator=model, param_grid=param_grid)\n",
        "grid.fit(en_train, ytrain)\n",
        "print(grid)\n",
        "# summarize the results of the grid search\n",
        "print(grid.best_score_)\n",
        "print(grid.best_estimator_)"
      ]
    },
    {
      "cell_type": "code",
      "execution_count": null,
      "metadata": {
        "id": "u0o2UvUJcuav"
      },
      "outputs": [],
      "source": [
        "svm = SVC(C = 10,gamma = 0.0001)\n",
        "svm.fit(en_train,ytrain)\n",
        "svm_pre = svm.predict(en_test)"
      ]
    },
    {
      "cell_type": "code",
      "execution_count": null,
      "metadata": {
        "colab": {
          "base_uri": "https://localhost:8080/"
        },
        "id": "Pg0dbm00xKWb",
        "outputId": "b6c72187-45fd-4069-a6fe-ebbb70235336"
      },
      "outputs": [
        {
          "name": "stdout",
          "output_type": "stream",
          "text": [
            "0.7115246957766643\n"
          ]
        }
      ],
      "source": [
        "svm_acc = accuracy_score(y_num_test,svm_pre)\n",
        "print (accuracy_score(y_num_test,svm_pre))"
      ]
    },
    {
      "cell_type": "code",
      "execution_count": null,
      "metadata": {
        "colab": {
          "base_uri": "https://localhost:8080/"
        },
        "id": "D_CDnb_OxWT7",
        "outputId": "cd3a867f-3e12-4d2d-afe5-d34d8c878edd"
      },
      "outputs": [
        {
          "name": "stdout",
          "output_type": "stream",
          "text": [
            "0.4266284896206156\n"
          ]
        }
      ],
      "source": [
        "dt = DecisionTreeClassifier()\n",
        "dt.fit(en_train,ytrain)\n",
        "dt_pre = dt.predict(en_test)\n",
        "print (accuracy_score(y_num_test,dt_pre))\n",
        "dt_acc = accuracy_score(y_num_test,dt_pre)"
      ]
    },
    {
      "cell_type": "code",
      "execution_count": null,
      "metadata": {
        "colab": {
          "base_uri": "https://localhost:8080/"
        },
        "id": "QM54bSmTyFOw",
        "outputId": "748f6372-98b9-421e-8697-a10d94a2d254"
      },
      "outputs": [
        {
          "name": "stdout",
          "output_type": "stream",
          "text": [
            "0.4330708661417323\n"
          ]
        }
      ],
      "source": [
        "ex = ExtraTreeClassifier()\n",
        "ex.fit(en_train,ytrain)\n",
        "ex_pre = ex.predict(en_test)\n",
        "print (accuracy_score(y_num_test,ex_pre))\n",
        "ex_acc = accuracy_score(y_num_test,ex_pre)"
      ]
    },
    {
      "cell_type": "code",
      "execution_count": null,
      "metadata": {
        "colab": {
          "base_uri": "https://localhost:8080/"
        },
        "id": "94p83rZN416z",
        "outputId": "292ce8f5-3c9c-4d78-a1d3-ab97a43fab82"
      },
      "outputs": [
        {
          "name": "stdout",
          "output_type": "stream",
          "text": [
            "0.8017179670722978\n"
          ]
        }
      ],
      "source": [
        "rf = RandomForestClassifier()\n",
        "rf.fit(en_train,ytrain)\n",
        "rf_pre = rf.predict(en_test)\n",
        "print (accuracy_score(y_num_test,rf_pre))\n",
        "rf_acc = accuracy_score(y_num_test,rf_pre)"
      ]
    },
    {
      "cell_type": "code",
      "execution_count": null,
      "metadata": {
        "colab": {
          "base_uri": "https://localhost:8080/",
          "height": 268
        },
        "id": "S07-tE-y9VRG",
        "outputId": "d2470e23-63b1-4764-87eb-62c8fd4a185c"
      },
      "outputs": [
        {
          "data": {
            "image/png": "[encoded data removed]",
            "text/plain": [
              "<Figure size 432x288 with 1 Axes>"
            ]
          },
          "metadata": {},
          "output_type": "display_data"
        }
      ],
      "source": [
        "sns.set(font_scale = 1)\n",
        "ax = sns.barplot(x=[\"svm\",'DTree','RandomF','ExtraTree','XGboost'],\n",
        "                 y = [svm_acc,dt_acc,rf_acc,ex_acc,xgb_acc],palette=\"Blues_d\")"
      ]
    }
  ],
  "metadata": {
    "accelerator": "GPU",
    "colab": {
      "collapsed_sections": [],
      "name": "EEG_Classification.ipynb",
      "provenance": []
    },
    "gpuClass": "standard",
    "kernelspec": {
      "display_name": "Python 3",
      "name": "python3"
    },
    "language_info": {
      "name": "python"
    }
  },
  "nbformat": 4,
  "nbformat_minor": 0
}
